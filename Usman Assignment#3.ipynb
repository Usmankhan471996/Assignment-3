{
 "cells": [
  {
   "cell_type": "code",
   "execution_count": 8,
   "metadata": {},
   "outputs": [
    {
     "name": "stdout",
     "output_type": "stream",
     "text": [
      "Enter Filename : sample_text_file.txt4\n",
      "Words = 38128\n",
      "Number Of Spaces = 54320 \n",
      " Number Of Lines = 4821 \n",
      " Number Of Tabs = 34 \n",
      "Number of Characters(without space) = 78009\n",
      "Number Of Characters With Spaces = 137184\n"
     ]
    }
   ],
   "source": [
    "#Count Number of characters,word,lines,non space, tabs..... By Usman Khan\n",
    "def words(f):\n",
    "    try:\n",
    "        with open(f,encoding=\"utf8\") as f_obj:\n",
    "            contents = f_obj.read()\n",
    "            \n",
    "    except FileNotFoundError:\n",
    "        msg = \"Sorry, the file \" + filename + \"does not exist.\"\n",
    "        print(msg)\n",
    "    else:\n",
    "        words = contents.split()\n",
    "        num_words = len(words)\n",
    "        print(\"Words = \" + str(num_words))\n",
    "    \n",
    "def characterswithspaces(f):\n",
    "    num_words = 0\n",
    "    num_chars = 0\n",
    "    with open(f,encoding=\"utf8\") as f_obj:\n",
    "           for line in f_obj:\n",
    "                num_chars += len(line)\n",
    "    print(\"Number Of Characters With Spaces = \" + str(num_chars))\n",
    "    \n",
    "    \n",
    "def characterswithoutspaces(f):\n",
    "    files = open(f,encoding=\"utf8\")\n",
    "    text = files.read()\n",
    "    space = 0\n",
    "    line = 0\n",
    "    tabs = 0\n",
    "    char = 0\n",
    " \n",
    "    for i in text:\n",
    "        if(i == \" \"):\n",
    "            space += 1\n",
    "        elif(i == \"\\n\"):\n",
    "            line += 1\n",
    "        elif(i == \"\\n\\r\"):\n",
    "            line += 1\n",
    "        elif(i == \"\\r\" ):\n",
    "            line += 1\n",
    "        elif(i == \"\\t\" ):\n",
    "            tabs+= 1    \n",
    "        else:\n",
    "            char += 1\n",
    "    print (\"Number Of Spaces = \"+str(space)+\" \\n Number Of Lines = \"+str(line)+\" \\n Number Of Tabs = \"+str(tabs)+\" \\nNumber of Characters(without space) = \"+str(char))            \n",
    "\n",
    "f = input(\"Enter Filename : \")\n",
    "words(f)\n",
    "characterswithoutspaces(f)   \n",
    "characterswithspaces(f)"
   ]
  },
  {
   "cell_type": "code",
   "execution_count": 13,
   "metadata": {},
   "outputs": [
    {
     "name": "stdout",
     "output_type": "stream",
     "text": [
      "Filename : htmlfile.txt\n",
      "Start tag: html\n",
      "Start tag: head\n",
      "Start tag: title\n",
      "End tag : title\n",
      "Start tag: style\n",
      "End tag : style\n",
      "End tag : head\n",
      "Start tag: body\n",
      "Start tag: h1\n",
      "End tag : h1\n",
      "Start tag: p\n",
      "End tag : p\n",
      "Start tag: p\n",
      "End tag : p\n",
      "Start tag: p\n",
      "Start tag: a\n",
      "End tag : a\n",
      "End tag : p\n",
      "End tag : body\n",
      "End tag : html\n"
     ]
    }
   ],
   "source": [
    "#HTML \n",
    "from html.parser import HTMLParser\n",
    "\n",
    "class MyHTMLParser(HTMLParser):\n",
    "    def handle_starttag(self, tag, attrs):\n",
    "        print(\"Start tag:\", tag)\n",
    "\n",
    "    def handle_endtag(self, tag):\n",
    "        print(\"End tag :\", tag)\n",
    "\n",
    "parser = MyHTMLParser()       \n",
    "        \n",
    "f = input(\"Filename : \") \n",
    "file = open(f,encoding=\"utf8\")\n",
    "text = file.read()\n",
    "parser.feed(text)\n"
   ]
  },
  {
   "cell_type": "code",
   "execution_count": null,
   "metadata": {},
   "outputs": [],
   "source": []
  }
 ],
 "metadata": {
  "kernelspec": {
   "display_name": "Python 3",
   "language": "python",
   "name": "python3"
  }
 },
 "nbformat": 4,
 "nbformat_minor": 2
}
